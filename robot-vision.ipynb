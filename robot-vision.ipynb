{
  "nbformat": 4,
  "nbformat_minor": 0,
  "metadata": {
    "colab": {
      "provenance": [],
      "gpuType": "T4",
      "authorship_tag": "ABX9TyOFxFubH5ghY7xbfxItBfEF",
      "include_colab_link": true
    },
    "kernelspec": {
      "name": "python3",
      "display_name": "Python 3"
    },
    "language_info": {
      "name": "python"
    },
    "accelerator": "GPU"
  },
  "cells": [
    {
      "cell_type": "markdown",
      "metadata": {
        "id": "view-in-github",
        "colab_type": "text"
      },
      "source": [
        "<a href=\"https://colab.research.google.com/github/ahamboeck/Robot-Traversability-with-Image-Segmentation/blob/main/robot-vision.ipynb\" target=\"_parent\"><img src=\"https://colab.research.google.com/assets/colab-badge.svg\" alt=\"Open In Colab\"/></a>"
      ]
    },
    {
      "cell_type": "code",
      "source": [
        "from google.colab import drive\n",
        "drive.mount('/content/drive')"
      ],
      "metadata": {
        "id": "l15Am_czXz0V"
      },
      "execution_count": null,
      "outputs": []
    },
    {
      "cell_type": "code",
      "execution_count": null,
      "metadata": {
        "id": "3X1bYcItOhu1",
        "colab": {
          "base_uri": "https://localhost:8080/"
        },
        "outputId": "bc0fc194-3c4e-4146-e18c-1efe7695820d"
      },
      "outputs": [
        {
          "output_type": "stream",
          "name": "stdout",
          "text": [
            "Collecting ultralytics\n",
            "  Downloading ultralytics-8.1.24-py3-none-any.whl (719 kB)\n",
            "\u001b[?25l     \u001b[90m━━━━━━━━━━━━━━━━━━━━━━━━━━━━━━━━━━━━━━━━\u001b[0m \u001b[32m0.0/719.5 kB\u001b[0m \u001b[31m?\u001b[0m eta \u001b[36m-:--:--\u001b[0m\r\u001b[2K     \u001b[91m━━━━━━━━━━━━━━━\u001b[0m\u001b[91m╸\u001b[0m\u001b[90m━━━━━━━━━━━━━━━━━━━━━━━━\u001b[0m \u001b[32m286.7/719.5 kB\u001b[0m \u001b[31m8.3 MB/s\u001b[0m eta \u001b[36m0:00:01\u001b[0m\r\u001b[2K     \u001b[90m━━━━━━━━━━━━━━━━━━━━━━━━━━━━━━━━━━━━━━━━\u001b[0m \u001b[32m719.5/719.5 kB\u001b[0m \u001b[31m10.6 MB/s\u001b[0m eta \u001b[36m0:00:00\u001b[0m\n",
            "\u001b[?25hRequirement already satisfied: matplotlib>=3.3.0 in /usr/local/lib/python3.10/dist-packages (from ultralytics) (3.7.1)\n",
            "Requirement already satisfied: opencv-python>=4.6.0 in /usr/local/lib/python3.10/dist-packages (from ultralytics) (4.8.0.76)\n",
            "Requirement already satisfied: pillow>=7.1.2 in /usr/local/lib/python3.10/dist-packages (from ultralytics) (9.4.0)\n",
            "Requirement already satisfied: pyyaml>=5.3.1 in /usr/local/lib/python3.10/dist-packages (from ultralytics) (6.0.1)\n",
            "Requirement already satisfied: requests>=2.23.0 in /usr/local/lib/python3.10/dist-packages (from ultralytics) (2.31.0)\n",
            "Requirement already satisfied: scipy>=1.4.1 in /usr/local/lib/python3.10/dist-packages (from ultralytics) (1.11.4)\n",
            "Requirement already satisfied: torch>=1.8.0 in /usr/local/lib/python3.10/dist-packages (from ultralytics) (2.1.0+cu121)\n",
            "Requirement already satisfied: torchvision>=0.9.0 in /usr/local/lib/python3.10/dist-packages (from ultralytics) (0.16.0+cu121)\n",
            "Requirement already satisfied: tqdm>=4.64.0 in /usr/local/lib/python3.10/dist-packages (from ultralytics) (4.66.2)\n",
            "Requirement already satisfied: psutil in /usr/local/lib/python3.10/dist-packages (from ultralytics) (5.9.5)\n",
            "Requirement already satisfied: py-cpuinfo in /usr/local/lib/python3.10/dist-packages (from ultralytics) (9.0.0)\n",
            "Collecting thop>=0.1.1 (from ultralytics)\n",
            "  Downloading thop-0.1.1.post2209072238-py3-none-any.whl (15 kB)\n",
            "Requirement already satisfied: pandas>=1.1.4 in /usr/local/lib/python3.10/dist-packages (from ultralytics) (1.5.3)\n",
            "Requirement already satisfied: seaborn>=0.11.0 in /usr/local/lib/python3.10/dist-packages (from ultralytics) (0.13.1)\n",
            "Requirement already satisfied: contourpy>=1.0.1 in /usr/local/lib/python3.10/dist-packages (from matplotlib>=3.3.0->ultralytics) (1.2.0)\n",
            "Requirement already satisfied: cycler>=0.10 in /usr/local/lib/python3.10/dist-packages (from matplotlib>=3.3.0->ultralytics) (0.12.1)\n",
            "Requirement already satisfied: fonttools>=4.22.0 in /usr/local/lib/python3.10/dist-packages (from matplotlib>=3.3.0->ultralytics) (4.49.0)\n",
            "Requirement already satisfied: kiwisolver>=1.0.1 in /usr/local/lib/python3.10/dist-packages (from matplotlib>=3.3.0->ultralytics) (1.4.5)\n",
            "Requirement already satisfied: numpy>=1.20 in /usr/local/lib/python3.10/dist-packages (from matplotlib>=3.3.0->ultralytics) (1.25.2)\n",
            "Requirement already satisfied: packaging>=20.0 in /usr/local/lib/python3.10/dist-packages (from matplotlib>=3.3.0->ultralytics) (23.2)\n",
            "Requirement already satisfied: pyparsing>=2.3.1 in /usr/local/lib/python3.10/dist-packages (from matplotlib>=3.3.0->ultralytics) (3.1.1)\n",
            "Requirement already satisfied: python-dateutil>=2.7 in /usr/local/lib/python3.10/dist-packages (from matplotlib>=3.3.0->ultralytics) (2.8.2)\n",
            "Requirement already satisfied: pytz>=2020.1 in /usr/local/lib/python3.10/dist-packages (from pandas>=1.1.4->ultralytics) (2023.4)\n",
            "Requirement already satisfied: charset-normalizer<4,>=2 in /usr/local/lib/python3.10/dist-packages (from requests>=2.23.0->ultralytics) (3.3.2)\n",
            "Requirement already satisfied: idna<4,>=2.5 in /usr/local/lib/python3.10/dist-packages (from requests>=2.23.0->ultralytics) (3.6)\n",
            "Requirement already satisfied: urllib3<3,>=1.21.1 in /usr/local/lib/python3.10/dist-packages (from requests>=2.23.0->ultralytics) (2.0.7)\n",
            "Requirement already satisfied: certifi>=2017.4.17 in /usr/local/lib/python3.10/dist-packages (from requests>=2.23.0->ultralytics) (2024.2.2)\n",
            "Requirement already satisfied: filelock in /usr/local/lib/python3.10/dist-packages (from torch>=1.8.0->ultralytics) (3.13.1)\n",
            "Requirement already satisfied: typing-extensions in /usr/local/lib/python3.10/dist-packages (from torch>=1.8.0->ultralytics) (4.10.0)\n",
            "Requirement already satisfied: sympy in /usr/local/lib/python3.10/dist-packages (from torch>=1.8.0->ultralytics) (1.12)\n",
            "Requirement already satisfied: networkx in /usr/local/lib/python3.10/dist-packages (from torch>=1.8.0->ultralytics) (3.2.1)\n",
            "Requirement already satisfied: jinja2 in /usr/local/lib/python3.10/dist-packages (from torch>=1.8.0->ultralytics) (3.1.3)\n",
            "Requirement already satisfied: fsspec in /usr/local/lib/python3.10/dist-packages (from torch>=1.8.0->ultralytics) (2023.6.0)\n",
            "Requirement already satisfied: triton==2.1.0 in /usr/local/lib/python3.10/dist-packages (from torch>=1.8.0->ultralytics) (2.1.0)\n",
            "Requirement already satisfied: six>=1.5 in /usr/local/lib/python3.10/dist-packages (from python-dateutil>=2.7->matplotlib>=3.3.0->ultralytics) (1.16.0)\n",
            "Requirement already satisfied: MarkupSafe>=2.0 in /usr/local/lib/python3.10/dist-packages (from jinja2->torch>=1.8.0->ultralytics) (2.1.5)\n",
            "Requirement already satisfied: mpmath>=0.19 in /usr/local/lib/python3.10/dist-packages (from sympy->torch>=1.8.0->ultralytics) (1.3.0)\n",
            "Installing collected packages: thop, ultralytics\n",
            "Successfully installed thop-0.1.1.post2209072238 ultralytics-8.1.24\n"
          ]
        }
      ],
      "source": [
        "# Install the ultralytics package from PyPI\n",
        "!pip install ultralytics"
      ]
    },
    {
      "cell_type": "code",
      "source": [
        "from ultralytics import YOLO\n",
        "\n",
        "# Load a model\n",
        "model = YOLO('yolov8n-seg.pt')  # load a pretrained model (recommended for training)\n",
        "\n",
        "# Train the model\n",
        "results = model.train(data='coco128-seg.yaml', epochs=5, imgsz=640)"
      ],
      "metadata": {
        "id": "bVEp4UTBO_y1",
        "outputId": "936f7be2-1910-4567-d220-f1cb99f1dd66",
        "colab": {
          "base_uri": "https://localhost:8080/"
        }
      },
      "execution_count": null,
      "outputs": [
        {
          "output_type": "stream",
          "name": "stdout",
          "text": [
            "Downloading https://github.com/ultralytics/assets/releases/download/v8.1.0/yolov8n-seg.pt to 'yolov8n-seg.pt'...\n"
          ]
        },
        {
          "output_type": "stream",
          "name": "stderr",
          "text": [
            "100%|██████████| 6.73M/6.73M [00:00<00:00, 95.3MB/s]\n"
          ]
        },
        {
          "output_type": "stream",
          "name": "stdout",
          "text": [
            "Ultralytics YOLOv8.1.24 🚀 Python-3.10.12 torch-2.1.0+cu121 CUDA:0 (Tesla T4, 15102MiB)\n",
            "\u001b[34m\u001b[1mengine/trainer: \u001b[0mtask=segment, mode=train, model=yolov8n-seg.pt, data=coco128-seg.yaml, epochs=5, time=None, patience=100, batch=16, imgsz=640, save=True, save_period=-1, cache=False, device=None, workers=8, project=None, name=train, exist_ok=False, pretrained=True, optimizer=auto, verbose=True, seed=0, deterministic=True, single_cls=False, rect=False, cos_lr=False, close_mosaic=10, resume=False, amp=True, fraction=1.0, profile=False, freeze=None, multi_scale=False, overlap_mask=True, mask_ratio=4, dropout=0.0, val=True, split=val, save_json=False, save_hybrid=False, conf=None, iou=0.7, max_det=300, half=False, dnn=False, plots=True, source=None, vid_stride=1, stream_buffer=False, visualize=False, augment=False, agnostic_nms=False, classes=None, retina_masks=False, embed=None, show=False, save_frames=False, save_txt=False, save_conf=False, save_crop=False, show_labels=True, show_conf=True, show_boxes=True, line_width=None, format=torchscript, keras=False, optimize=False, int8=False, dynamic=False, simplify=False, opset=None, workspace=4, nms=False, lr0=0.01, lrf=0.01, momentum=0.937, weight_decay=0.0005, warmup_epochs=3.0, warmup_momentum=0.8, warmup_bias_lr=0.1, box=7.5, cls=0.5, dfl=1.5, pose=12.0, kobj=1.0, label_smoothing=0.0, nbs=64, hsv_h=0.015, hsv_s=0.7, hsv_v=0.4, degrees=0.0, translate=0.1, scale=0.5, shear=0.0, perspective=0.0, flipud=0.0, fliplr=0.5, mosaic=1.0, mixup=0.0, copy_paste=0.0, auto_augment=randaugment, erasing=0.4, crop_fraction=1.0, cfg=None, tracker=botsort.yaml, save_dir=runs/segment/train\n",
            "\n",
            "Dataset 'coco128-seg.yaml' images not found ⚠️, missing path '/content/datasets/coco128-seg/images/train2017'\n",
            "Downloading https://ultralytics.com/assets/coco128-seg.zip to '/content/datasets/coco128-seg.zip'...\n"
          ]
        },
        {
          "output_type": "stream",
          "name": "stderr",
          "text": [
            "100%|██████████| 6.79M/6.79M [00:00<00:00, 140MB/s]\n",
            "Unzipping /content/datasets/coco128-seg.zip to /content/datasets/coco128-seg...: 100%|██████████| 263/263 [00:00<00:00, 1051.37file/s]"
          ]
        },
        {
          "output_type": "stream",
          "name": "stdout",
          "text": [
            "Dataset download success ✅ (1.6s), saved to \u001b[1m/content/datasets\u001b[0m\n",
            "\n"
          ]
        },
        {
          "output_type": "stream",
          "name": "stderr",
          "text": [
            "\n"
          ]
        },
        {
          "output_type": "stream",
          "name": "stdout",
          "text": [
            "Downloading https://ultralytics.com/assets/Arial.ttf to '/root/.config/Ultralytics/Arial.ttf'...\n"
          ]
        },
        {
          "output_type": "stream",
          "name": "stderr",
          "text": [
            "100%|██████████| 755k/755k [00:00<00:00, 44.1MB/s]\n"
          ]
        },
        {
          "output_type": "stream",
          "name": "stdout",
          "text": [
            "\n",
            "                   from  n    params  module                                       arguments                     \n",
            "  0                  -1  1       464  ultralytics.nn.modules.conv.Conv             [3, 16, 3, 2]                 \n",
            "  1                  -1  1      4672  ultralytics.nn.modules.conv.Conv             [16, 32, 3, 2]                \n",
            "  2                  -1  1      7360  ultralytics.nn.modules.block.C2f             [32, 32, 1, True]             \n",
            "  3                  -1  1     18560  ultralytics.nn.modules.conv.Conv             [32, 64, 3, 2]                \n",
            "  4                  -1  2     49664  ultralytics.nn.modules.block.C2f             [64, 64, 2, True]             \n",
            "  5                  -1  1     73984  ultralytics.nn.modules.conv.Conv             [64, 128, 3, 2]               \n",
            "  6                  -1  2    197632  ultralytics.nn.modules.block.C2f             [128, 128, 2, True]           \n",
            "  7                  -1  1    295424  ultralytics.nn.modules.conv.Conv             [128, 256, 3, 2]              \n",
            "  8                  -1  1    460288  ultralytics.nn.modules.block.C2f             [256, 256, 1, True]           \n",
            "  9                  -1  1    164608  ultralytics.nn.modules.block.SPPF            [256, 256, 5]                 \n",
            " 10                  -1  1         0  torch.nn.modules.upsampling.Upsample         [None, 2, 'nearest']          \n",
            " 11             [-1, 6]  1         0  ultralytics.nn.modules.conv.Concat           [1]                           \n",
            " 12                  -1  1    148224  ultralytics.nn.modules.block.C2f             [384, 128, 1]                 \n",
            " 13                  -1  1         0  torch.nn.modules.upsampling.Upsample         [None, 2, 'nearest']          \n",
            " 14             [-1, 4]  1         0  ultralytics.nn.modules.conv.Concat           [1]                           \n",
            " 15                  -1  1     37248  ultralytics.nn.modules.block.C2f             [192, 64, 1]                  \n",
            " 16                  -1  1     36992  ultralytics.nn.modules.conv.Conv             [64, 64, 3, 2]                \n",
            " 17            [-1, 12]  1         0  ultralytics.nn.modules.conv.Concat           [1]                           \n",
            " 18                  -1  1    123648  ultralytics.nn.modules.block.C2f             [192, 128, 1]                 \n",
            " 19                  -1  1    147712  ultralytics.nn.modules.conv.Conv             [128, 128, 3, 2]              \n",
            " 20             [-1, 9]  1         0  ultralytics.nn.modules.conv.Concat           [1]                           \n",
            " 21                  -1  1    493056  ultralytics.nn.modules.block.C2f             [384, 256, 1]                 \n",
            " 22        [15, 18, 21]  1   1150432  ultralytics.nn.modules.head.Segment          [80, 32, 64, [64, 128, 256]]  \n",
            "YOLOv8n-seg summary: 261 layers, 3409968 parameters, 3409952 gradients, 12.8 GFLOPs\n",
            "\n",
            "Transferred 417/417 items from pretrained weights\n",
            "\u001b[34m\u001b[1mTensorBoard: \u001b[0mStart with 'tensorboard --logdir runs/segment/train', view at http://localhost:6006/\n",
            "Freezing layer 'model.22.dfl.conv.weight'\n",
            "\u001b[34m\u001b[1mAMP: \u001b[0mrunning Automatic Mixed Precision (AMP) checks with YOLOv8n...\n",
            "Downloading https://github.com/ultralytics/assets/releases/download/v8.1.0/yolov8n.pt to 'yolov8n.pt'...\n"
          ]
        },
        {
          "output_type": "stream",
          "name": "stderr",
          "text": [
            "100%|██████████| 6.23M/6.23M [00:00<00:00, 181MB/s]\n"
          ]
        },
        {
          "output_type": "stream",
          "name": "stdout",
          "text": [
            "\u001b[34m\u001b[1mAMP: \u001b[0mchecks passed ✅\n"
          ]
        },
        {
          "output_type": "stream",
          "name": "stderr",
          "text": [
            "\u001b[34m\u001b[1mtrain: \u001b[0mScanning /content/datasets/coco128-seg/labels/train2017... 126 images, 2 backgrounds, 0 corrupt: 100%|██████████| 128/128 [00:00<00:00, 861.16it/s]"
          ]
        },
        {
          "output_type": "stream",
          "name": "stdout",
          "text": [
            "\u001b[34m\u001b[1mtrain: \u001b[0mNew cache created: /content/datasets/coco128-seg/labels/train2017.cache\n"
          ]
        },
        {
          "output_type": "stream",
          "name": "stderr",
          "text": [
            "\n"
          ]
        },
        {
          "output_type": "stream",
          "name": "stdout",
          "text": [
            "\u001b[34m\u001b[1malbumentations: \u001b[0mBlur(p=0.01, blur_limit=(3, 7)), MedianBlur(p=0.01, blur_limit=(3, 7)), ToGray(p=0.01), CLAHE(p=0.01, clip_limit=(1, 4.0), tile_grid_size=(8, 8))\n"
          ]
        },
        {
          "output_type": "stream",
          "name": "stderr",
          "text": [
            "\u001b[34m\u001b[1mval: \u001b[0mScanning /content/datasets/coco128-seg/labels/train2017.cache... 126 images, 2 backgrounds, 0 corrupt: 100%|██████████| 128/128 [00:00<?, ?it/s]\n"
          ]
        },
        {
          "output_type": "stream",
          "name": "stdout",
          "text": [
            "Plotting labels to runs/segment/train/labels.jpg... \n",
            "\u001b[34m\u001b[1moptimizer:\u001b[0m 'optimizer=auto' found, ignoring 'lr0=0.01' and 'momentum=0.937' and determining best 'optimizer', 'lr0' and 'momentum' automatically... \n",
            "\u001b[34m\u001b[1moptimizer:\u001b[0m AdamW(lr=0.000119, momentum=0.9) with parameter groups 66 weight(decay=0.0), 77 weight(decay=0.0005), 76 bias(decay=0.0)\n",
            "\u001b[34m\u001b[1mTensorBoard: \u001b[0mmodel graph visualization added ✅\n",
            "Image sizes 640 train, 640 val\n",
            "Using 2 dataloader workers\n",
            "Logging results to \u001b[1mruns/segment/train\u001b[0m\n",
            "Starting training for 5 epochs...\n",
            "\n",
            "      Epoch    GPU_mem   box_loss   seg_loss   cls_loss   dfl_loss  Instances       Size\n"
          ]
        },
        {
          "output_type": "stream",
          "name": "stderr",
          "text": [
            "        1/5      3.71G      1.093      2.596      1.577      1.176        236        640: 100%|██████████| 8/8 [00:12<00:00,  1.51s/it]\n",
            "                 Class     Images  Instances      Box(P          R      mAP50  mAP50-95)     Mask(P          R      mAP50  mAP50-95): 100%|██████████| 4/4 [00:04<00:00,  1.03s/it]"
          ]
        },
        {
          "output_type": "stream",
          "name": "stdout",
          "text": [
            "                   all        128        929      0.668      0.495      0.577      0.417       0.66      0.468      0.537      0.349\n"
          ]
        },
        {
          "output_type": "stream",
          "name": "stderr",
          "text": [
            "\n"
          ]
        },
        {
          "output_type": "stream",
          "name": "stdout",
          "text": [
            "\n",
            "      Epoch    GPU_mem   box_loss   seg_loss   cls_loss   dfl_loss  Instances       Size\n"
          ]
        },
        {
          "output_type": "stream",
          "name": "stderr",
          "text": [
            "        2/5      3.63G      1.085      2.505      1.366      1.146        156        640: 100%|██████████| 8/8 [00:04<00:00,  1.95it/s]\n",
            "                 Class     Images  Instances      Box(P          R      mAP50  mAP50-95)     Mask(P          R      mAP50  mAP50-95): 100%|██████████| 4/4 [00:03<00:00,  1.28it/s]"
          ]
        },
        {
          "output_type": "stream",
          "name": "stdout",
          "text": [
            "                   all        128        929      0.627      0.534      0.595      0.433      0.607      0.513      0.557      0.363\n"
          ]
        },
        {
          "output_type": "stream",
          "name": "stderr",
          "text": [
            "\n"
          ]
        },
        {
          "output_type": "stream",
          "name": "stdout",
          "text": [
            "\n",
            "      Epoch    GPU_mem   box_loss   seg_loss   cls_loss   dfl_loss  Instances       Size\n"
          ]
        },
        {
          "output_type": "stream",
          "name": "stderr",
          "text": [
            "        3/5      3.54G      1.066      2.586      1.263      1.143        171        640: 100%|██████████| 8/8 [00:04<00:00,  1.83it/s]\n",
            "                 Class     Images  Instances      Box(P          R      mAP50  mAP50-95)     Mask(P          R      mAP50  mAP50-95): 100%|██████████| 4/4 [00:02<00:00,  1.45it/s]"
          ]
        },
        {
          "output_type": "stream",
          "name": "stdout",
          "text": [
            "                   all        128        929      0.648      0.539      0.614      0.449      0.603      0.526      0.574      0.377\n"
          ]
        },
        {
          "output_type": "stream",
          "name": "stderr",
          "text": [
            "\n"
          ]
        },
        {
          "output_type": "stream",
          "name": "stdout",
          "text": [
            "\n",
            "      Epoch    GPU_mem   box_loss   seg_loss   cls_loss   dfl_loss  Instances       Size\n"
          ]
        },
        {
          "output_type": "stream",
          "name": "stderr",
          "text": [
            "        4/5      3.56G      1.066      2.509      1.383      1.143        235        640: 100%|██████████| 8/8 [00:03<00:00,  2.14it/s]\n",
            "                 Class     Images  Instances      Box(P          R      mAP50  mAP50-95)     Mask(P          R      mAP50  mAP50-95): 100%|██████████| 4/4 [00:02<00:00,  1.36it/s]\n"
          ]
        },
        {
          "output_type": "stream",
          "name": "stdout",
          "text": [
            "                   all        128        929      0.669      0.546      0.624       0.46      0.657      0.524      0.585      0.385\n",
            "\n",
            "      Epoch    GPU_mem   box_loss   seg_loss   cls_loss   dfl_loss  Instances       Size\n"
          ]
        },
        {
          "output_type": "stream",
          "name": "stderr",
          "text": [
            "        5/5      3.54G      1.125      2.637      1.344      1.166        252        640: 100%|██████████| 8/8 [00:03<00:00,  2.12it/s]\n",
            "                 Class     Images  Instances      Box(P          R      mAP50  mAP50-95)     Mask(P          R      mAP50  mAP50-95): 100%|██████████| 4/4 [00:02<00:00,  1.65it/s]"
          ]
        },
        {
          "output_type": "stream",
          "name": "stdout",
          "text": [
            "                   all        128        929        0.6      0.599      0.629      0.468       0.59      0.569      0.592       0.39\n"
          ]
        },
        {
          "output_type": "stream",
          "name": "stderr",
          "text": [
            "\n"
          ]
        },
        {
          "output_type": "stream",
          "name": "stdout",
          "text": [
            "\n",
            "5 epochs completed in 0.014 hours.\n",
            "Optimizer stripped from runs/segment/train/weights/last.pt, 7.1MB\n",
            "Optimizer stripped from runs/segment/train/weights/best.pt, 7.1MB\n",
            "\n",
            "Validating runs/segment/train/weights/best.pt...\n",
            "Ultralytics YOLOv8.1.24 🚀 Python-3.10.12 torch-2.1.0+cu121 CUDA:0 (Tesla T4, 15102MiB)\n",
            "YOLOv8n-seg summary (fused): 195 layers, 3404320 parameters, 0 gradients, 12.6 GFLOPs\n"
          ]
        },
        {
          "output_type": "stream",
          "name": "stderr",
          "text": [
            "                 Class     Images  Instances      Box(P          R      mAP50  mAP50-95)     Mask(P          R      mAP50  mAP50-95): 100%|██████████| 4/4 [00:07<00:00,  1.85s/it]\n"
          ]
        },
        {
          "output_type": "stream",
          "name": "stdout",
          "text": [
            "                   all        128        929      0.602      0.599       0.63      0.468      0.584      0.576      0.592       0.39\n",
            "                person        128        254      0.786      0.717      0.783      0.556      0.762      0.693      0.742       0.41\n",
            "               bicycle        128          6      0.442      0.167      0.426      0.231      0.443      0.167       0.32      0.195\n",
            "                   car        128         46      0.504      0.217      0.266      0.158      0.506      0.217      0.242      0.106\n",
            "            motorcycle        128          5      0.714          1      0.962      0.765      0.716          1      0.962      0.521\n",
            "              airplane        128          6      0.648      0.926      0.893      0.726      0.648      0.924      0.859      0.543\n",
            "                   bus        128          7      0.506      0.714       0.72      0.571      0.506      0.714       0.72      0.553\n",
            "                 train        128          3       0.56          1      0.863      0.583       0.56          1      0.863      0.593\n",
            "                 truck        128         12      0.863      0.333      0.533      0.326      0.864      0.333      0.494      0.264\n",
            "                  boat        128          6       0.53      0.384      0.502      0.288      0.471      0.333      0.406      0.158\n",
            "         traffic light        128         14      0.653      0.214      0.251      0.154      0.436      0.143      0.179       0.15\n",
            "             stop sign        128          2          1      0.883      0.995      0.747          1      0.882      0.995      0.846\n",
            "                 bench        128          9      0.769      0.375      0.567      0.251      0.769      0.374      0.488      0.152\n",
            "                  bird        128         16      0.934      0.892      0.958        0.7      0.934      0.891      0.958      0.562\n",
            "                   cat        128          4       0.69          1      0.995      0.778       0.69          1      0.995      0.809\n",
            "                   dog        128          9      0.582      0.778      0.861      0.679      0.583      0.778       0.82      0.555\n",
            "                 horse        128          2      0.525          1      0.995      0.399      0.263        0.5       0.25     0.0998\n",
            "              elephant        128         17      0.887      0.824      0.894      0.708      0.888      0.824      0.878      0.575\n",
            "                  bear        128          1      0.629          1      0.995      0.995       0.63          1      0.995      0.995\n",
            "                 zebra        128          4      0.837          1      0.995      0.965      0.837          1      0.995      0.853\n",
            "               giraffe        128          9      0.818      0.998      0.955      0.705      0.635      0.774      0.778      0.471\n",
            "              backpack        128          6      0.737      0.474      0.521      0.287      0.737      0.474      0.461      0.305\n",
            "              umbrella        128         18      0.554      0.667      0.732      0.482      0.509      0.611      0.514      0.241\n",
            "               handbag        128         19      0.679      0.105      0.252      0.181      0.681      0.105      0.266      0.128\n",
            "                   tie        128          7      0.817      0.643      0.677      0.468      0.817      0.642      0.677      0.431\n",
            "              suitcase        128          4      0.607          1      0.995      0.746      0.609          1      0.995      0.684\n",
            "               frisbee        128          5      0.511        0.6      0.663       0.59      0.511        0.6       0.68      0.435\n",
            "                  skis        128          1      0.704          1      0.995      0.697      0.706          1      0.995      0.199\n",
            "             snowboard        128          7      0.484      0.857      0.857      0.655      0.323      0.571      0.319      0.136\n",
            "           sports ball        128          6      0.714      0.427      0.428      0.258      0.426       0.26      0.263      0.207\n",
            "                  kite        128         10      0.528        0.3      0.467      0.232      0.532        0.3      0.404      0.184\n",
            "          baseball bat        128          4          0          0      0.101     0.0599      0.417       0.25      0.578      0.223\n",
            "        baseball glove        128          7      0.587      0.429      0.429      0.268      0.588      0.429      0.452      0.305\n",
            "            skateboard        128          5      0.592        0.4      0.484      0.306      0.595        0.4      0.504      0.273\n",
            "         tennis racket        128          7      0.544      0.429      0.424       0.26      0.546      0.429      0.459      0.276\n",
            "                bottle        128         18      0.369      0.278      0.345      0.183      0.443      0.333      0.377      0.194\n",
            "            wine glass        128         16      0.634      0.688      0.731      0.378      0.406      0.438      0.417      0.242\n",
            "                   cup        128         36      0.622      0.333      0.407      0.306      0.622      0.333      0.372      0.262\n",
            "                  fork        128          6      0.346      0.167      0.212      0.189      0.347      0.167      0.206      0.104\n",
            "                 knife        128         16      0.608      0.486      0.556      0.412       0.55      0.438      0.463      0.339\n",
            "                 spoon        128         22      0.857      0.272       0.46      0.289      0.856      0.271      0.436      0.208\n",
            "                  bowl        128         28      0.737      0.714      0.729      0.571      0.701      0.679      0.676      0.379\n",
            "                banana        128          1      0.148          1      0.199      0.179      0.148          1      0.199      0.139\n",
            "              sandwich        128          2      0.319          1      0.828      0.795       0.32          1      0.828      0.703\n",
            "                orange        128          4          1      0.275      0.888      0.581          1      0.268      0.888      0.463\n",
            "              broccoli        128         11       0.36      0.182      0.255      0.217      0.361      0.182      0.277      0.233\n",
            "                carrot        128         24      0.563      0.429      0.531      0.373      0.559      0.423      0.541      0.323\n",
            "               hot dog        128          2      0.464          1      0.995      0.995      0.464          1      0.995      0.846\n",
            "                 pizza        128          5      0.519          1      0.938      0.792       0.52          1      0.938       0.77\n",
            "                 donut        128         14      0.607          1      0.947      0.866      0.607          1      0.947      0.769\n",
            "                  cake        128          4      0.586          1      0.945      0.859      0.586          1      0.945      0.812\n",
            "                 chair        128         35      0.376      0.486      0.485      0.241      0.398      0.514      0.455      0.224\n",
            "                 couch        128          6      0.684      0.726      0.763      0.612      0.525      0.558      0.655      0.317\n",
            "          potted plant        128         14      0.661      0.571      0.617      0.399      0.744      0.643      0.644      0.304\n",
            "                   bed        128          3          1      0.871      0.995      0.454          1       0.87      0.995      0.567\n",
            "          dining table        128         13      0.561      0.493      0.482      0.383      0.207      0.182      0.186     0.0875\n",
            "                toilet        128          2      0.329        0.5      0.516      0.512      0.329        0.5      0.516      0.509\n",
            "                    tv        128          2      0.566          1      0.995      0.895      0.575          1      0.995      0.895\n",
            "                laptop        128          3       0.68      0.333      0.488      0.439      0.681      0.333      0.454      0.284\n",
            "                 mouse        128          2          0          0     0.0461    0.00921          0          0          0          0\n",
            "                remote        128          8      0.821        0.5       0.61      0.464      0.821        0.5      0.626      0.452\n",
            "            cell phone        128          8      0.538       0.25      0.264      0.156      0.539       0.25      0.255      0.152\n",
            "             microwave        128          3      0.652          1      0.913      0.831      0.653          1      0.913       0.74\n",
            "                  oven        128          5      0.384        0.4      0.347      0.273      0.578        0.6      0.618      0.424\n",
            "                  sink        128          6      0.304      0.167      0.194      0.143      0.305      0.167      0.197      0.134\n",
            "          refrigerator        128          5      0.698      0.931      0.898      0.665      0.697      0.929      0.898      0.648\n",
            "                  book        128         29      0.373      0.165      0.259       0.13      0.369      0.162      0.235     0.0975\n",
            "                 clock        128          9      0.824      0.778      0.844      0.676      0.824      0.778      0.844      0.672\n",
            "                  vase        128          2      0.283          1      0.448      0.413      0.283          1      0.448      0.368\n",
            "              scissors        128          1          1          0          0          0          1          0          0          0\n",
            "            teddy bear        128         21      0.634      0.333      0.511      0.313      0.643      0.333      0.494      0.266\n",
            "            toothbrush        128          5      0.686      0.447      0.623      0.453      0.685      0.444      0.623      0.312\n",
            "Speed: 0.4ms preprocess, 4.0ms inference, 0.0ms loss, 8.9ms postprocess per image\n",
            "Results saved to \u001b[1mruns/segment/train\u001b[0m\n"
          ]
        }
      ]
    },
    {
      "cell_type": "code",
      "source": [
        "# Predict with the model\n",
        "results = model(source='https://upload.wikimedia.org/wikipedia/commons/thumb/e/e2/Main_school.jpg/2560px-Main_school.jpg', conf=0.85)  # predict on an image\n",
        "\n",
        "# Process results list\n",
        "# for result in results:\n",
        "#     boxes = result.boxes  # Boxes object for bounding box outputs\n",
        "#     masks = result.masks  # Masks object for segmentation masks outputs\n",
        "#     keypoints = result.keypoints  # Keypoints object for pose outputs\n",
        "#     probs = result.probs  # Probs object for classification outputs\n",
        "#     result.show()  # display to screen\n",
        "#     result.save(filename='result.jpg')  # save to disk"
      ],
      "metadata": {
        "colab": {
          "base_uri": "https://localhost:8080/"
        },
        "id": "KUd0GAHMemGv",
        "outputId": "a767a8b6-070f-4b2b-aa17-07ade75a9766"
      },
      "execution_count": null,
      "outputs": [
        {
          "output_type": "stream",
          "name": "stdout",
          "text": [
            "\n",
            "Found https://upload.wikimedia.org/wikipedia/commons/thumb/e/e2/Main_school.jpg/2560px-Main_school.jpg locally at 2560px-Main_school.jpg\n",
            "image 1/1 /content/2560px-Main_school.jpg: 448x640 1 person, 11.4ms\n",
            "Speed: 2.5ms preprocess, 11.4ms inference, 3.1ms postprocess per image at shape (1, 3, 448, 640)\n"
          ]
        }
      ]
    },
    {
      "cell_type": "code",
      "source": [
        "# View results\n",
        "for r in results:\n",
        "    print(r.masks)  # print the Masks object containing the detected instance masks"
      ],
      "metadata": {
        "colab": {
          "base_uri": "https://localhost:8080/"
        },
        "id": "qPiX1sw5g_by",
        "outputId": "443afebb-c1eb-4a97-8ddd-07f297095e83"
      },
      "execution_count": null,
      "outputs": [
        {
          "output_type": "stream",
          "name": "stdout",
          "text": [
            "ultralytics.engine.results.Masks object with attributes:\n",
            "\n",
            "data: tensor([[[0., 0., 0.,  ..., 0., 0., 0.],\n",
            "         [0., 0., 0.,  ..., 0., 0., 0.],\n",
            "         [0., 0., 0.,  ..., 0., 0., 0.],\n",
            "         ...,\n",
            "         [0., 0., 0.,  ..., 0., 0., 0.],\n",
            "         [0., 0., 0.,  ..., 0., 0., 0.],\n",
            "         [0., 0., 0.,  ..., 0., 0., 0.]]], device='cuda:0')\n",
            "orig_shape: (1714, 2560)\n",
            "shape: torch.Size([1, 448, 640])\n",
            "xy: [array([[       2288,        1193],\n",
            "       [       2284,        1197],\n",
            "       [       2276,        1197],\n",
            "       [       2276,        1205],\n",
            "       [       2272,        1209],\n",
            "       [       2272,        1233],\n",
            "       [       2268,        1237],\n",
            "       [       2268,        1249],\n",
            "       [       2264,        1253],\n",
            "       [       2264,        1293],\n",
            "       [       2260,        1297],\n",
            "       [       2260,        1317],\n",
            "       [       2256,        1321],\n",
            "       [       2256,        1349],\n",
            "       [       2260,        1353],\n",
            "       [       2260,        1365],\n",
            "       [       2272,        1365],\n",
            "       [       2276,        1361],\n",
            "       [       2284,        1369],\n",
            "       [       2284,        1377],\n",
            "       [       2288,        1381],\n",
            "       [       2288,        1385],\n",
            "       [       2292,        1389],\n",
            "       [       2292,        1393],\n",
            "       [       2300,        1401],\n",
            "       [       2300,        1413],\n",
            "       [       2304,        1417],\n",
            "       [       2304,        1429],\n",
            "       [       2300,        1433],\n",
            "       [       2300,        1441],\n",
            "       [       2288,        1453],\n",
            "       [       2288,        1485],\n",
            "       [       2284,        1489],\n",
            "       [       2284,        1493],\n",
            "       [       2280,        1497],\n",
            "       [       2280,        1501],\n",
            "       [       2276,        1505],\n",
            "       [       2276,        1509],\n",
            "       [       2272,        1513],\n",
            "       [       2272,        1529],\n",
            "       [       2276,        1533],\n",
            "       [       2276,        1537],\n",
            "       [       2284,        1537],\n",
            "       [       2288,        1541],\n",
            "       [       2296,        1541],\n",
            "       [       2300,        1537],\n",
            "       [       2300,        1529],\n",
            "       [       2304,        1525],\n",
            "       [       2304,        1521],\n",
            "       [       2312,        1513],\n",
            "       [       2312,        1509],\n",
            "       [       2316,        1505],\n",
            "       [       2316,        1489],\n",
            "       [       2320,        1485],\n",
            "       [       2320,        1481],\n",
            "       [       2324,        1477],\n",
            "       [       2328,        1477],\n",
            "       [       2328,        1473],\n",
            "       [       2332,        1469],\n",
            "       [       2332,        1457],\n",
            "       [       2344,        1445],\n",
            "       [       2348,        1449],\n",
            "       [       2356,        1449],\n",
            "       [       2364,        1457],\n",
            "       [       2364,        1465],\n",
            "       [       2368,        1469],\n",
            "       [       2368,        1537],\n",
            "       [       2372,        1541],\n",
            "       [       2396,        1541],\n",
            "       [       2400,        1537],\n",
            "       [       2404,        1537],\n",
            "       [       2408,        1533],\n",
            "       [       2408,        1501],\n",
            "       [       2404,        1497],\n",
            "       [       2404,        1489],\n",
            "       [       2400,        1485],\n",
            "       [       2400,        1461],\n",
            "       [       2396,        1457],\n",
            "       [       2396,        1405],\n",
            "       [       2392,        1401],\n",
            "       [       2392,        1377],\n",
            "       [       2388,        1373],\n",
            "       [       2392,        1369],\n",
            "       [       2392,        1321],\n",
            "       [       2396,        1317],\n",
            "       [       2396,        1297],\n",
            "       [       2392,        1293],\n",
            "       [       2392,        1289],\n",
            "       [       2384,        1281],\n",
            "       [       2384,        1273],\n",
            "       [       2380,        1269],\n",
            "       [       2380,        1261],\n",
            "       [       2360,        1241],\n",
            "       [       2356,        1241],\n",
            "       [       2340,        1225],\n",
            "       [       2336,        1225],\n",
            "       [       2332,        1221],\n",
            "       [       2332,        1217],\n",
            "       [       2328,        1213],\n",
            "       [       2328,        1209],\n",
            "       [       2320,        1201],\n",
            "       [       2320,        1197],\n",
            "       [       2316,        1197],\n",
            "       [       2312,        1193]], dtype=float32)]\n",
            "xyn: [array([[    0.89375,     0.69603],\n",
            "       [    0.89219,     0.69837],\n",
            "       [    0.88906,     0.69837],\n",
            "       [    0.88906,     0.70303],\n",
            "       [     0.8875,     0.70537],\n",
            "       [     0.8875,     0.71937],\n",
            "       [    0.88594,      0.7217],\n",
            "       [    0.88594,      0.7287],\n",
            "       [    0.88437,     0.73104],\n",
            "       [    0.88437,     0.75438],\n",
            "       [    0.88281,     0.75671],\n",
            "       [    0.88281,     0.76838],\n",
            "       [    0.88125,     0.77071],\n",
            "       [    0.88125,     0.78705],\n",
            "       [    0.88281,     0.78938],\n",
            "       [    0.88281,     0.79638],\n",
            "       [     0.8875,     0.79638],\n",
            "       [    0.88906,     0.79405],\n",
            "       [    0.89219,     0.79872],\n",
            "       [    0.89219,     0.80338],\n",
            "       [    0.89375,     0.80572],\n",
            "       [    0.89375,     0.80805],\n",
            "       [    0.89531,     0.81039],\n",
            "       [    0.89531,     0.81272],\n",
            "       [    0.89844,     0.81739],\n",
            "       [    0.89844,     0.82439],\n",
            "       [        0.9,     0.82672],\n",
            "       [        0.9,     0.83372],\n",
            "       [    0.89844,     0.83606],\n",
            "       [    0.89844,     0.84072],\n",
            "       [    0.89375,     0.84772],\n",
            "       [    0.89375,     0.86639],\n",
            "       [    0.89219,     0.86873],\n",
            "       [    0.89219,     0.87106],\n",
            "       [    0.89062,      0.8734],\n",
            "       [    0.89062,     0.87573],\n",
            "       [    0.88906,     0.87806],\n",
            "       [    0.88906,      0.8804],\n",
            "       [     0.8875,     0.88273],\n",
            "       [     0.8875,     0.89207],\n",
            "       [    0.88906,      0.8944],\n",
            "       [    0.88906,     0.89673],\n",
            "       [    0.89219,     0.89673],\n",
            "       [    0.89375,     0.89907],\n",
            "       [    0.89688,     0.89907],\n",
            "       [    0.89844,     0.89673],\n",
            "       [    0.89844,     0.89207],\n",
            "       [        0.9,     0.88973],\n",
            "       [        0.9,      0.8874],\n",
            "       [    0.90312,     0.88273],\n",
            "       [    0.90312,      0.8804],\n",
            "       [    0.90469,     0.87806],\n",
            "       [    0.90469,     0.86873],\n",
            "       [    0.90625,     0.86639],\n",
            "       [    0.90625,     0.86406],\n",
            "       [    0.90781,     0.86173],\n",
            "       [    0.90938,     0.86173],\n",
            "       [    0.90938,     0.85939],\n",
            "       [    0.91094,     0.85706],\n",
            "       [    0.91094,     0.85006],\n",
            "       [    0.91562,     0.84306],\n",
            "       [    0.91719,     0.84539],\n",
            "       [    0.92031,     0.84539],\n",
            "       [    0.92344,     0.85006],\n",
            "       [    0.92344,     0.85473],\n",
            "       [      0.925,     0.85706],\n",
            "       [      0.925,     0.89673],\n",
            "       [    0.92656,     0.89907],\n",
            "       [    0.93594,     0.89907],\n",
            "       [     0.9375,     0.89673],\n",
            "       [    0.93906,     0.89673],\n",
            "       [    0.94063,      0.8944],\n",
            "       [    0.94063,     0.87573],\n",
            "       [    0.93906,      0.8734],\n",
            "       [    0.93906,     0.86873],\n",
            "       [     0.9375,     0.86639],\n",
            "       [     0.9375,     0.85239],\n",
            "       [    0.93594,     0.85006],\n",
            "       [    0.93594,     0.81972],\n",
            "       [    0.93437,     0.81739],\n",
            "       [    0.93437,     0.80338],\n",
            "       [    0.93281,     0.80105],\n",
            "       [    0.93437,     0.79872],\n",
            "       [    0.93437,     0.77071],\n",
            "       [    0.93594,     0.76838],\n",
            "       [    0.93594,     0.75671],\n",
            "       [    0.93437,     0.75438],\n",
            "       [    0.93437,     0.75204],\n",
            "       [    0.93125,     0.74737],\n",
            "       [    0.93125,     0.74271],\n",
            "       [    0.92969,     0.74037],\n",
            "       [    0.92969,     0.73571],\n",
            "       [    0.92188,     0.72404],\n",
            "       [    0.92031,     0.72404],\n",
            "       [    0.91406,      0.7147],\n",
            "       [     0.9125,      0.7147],\n",
            "       [    0.91094,     0.71237],\n",
            "       [    0.91094,     0.71004],\n",
            "       [    0.90938,      0.7077],\n",
            "       [    0.90938,     0.70537],\n",
            "       [    0.90625,      0.7007],\n",
            "       [    0.90625,     0.69837],\n",
            "       [    0.90469,     0.69837],\n",
            "       [    0.90312,     0.69603]], dtype=float32)]\n"
          ]
        }
      ]
    },
    {
      "cell_type": "code",
      "source": [],
      "metadata": {
        "id": "8knyW4-hhAYi"
      },
      "execution_count": null,
      "outputs": []
    }
  ]
}